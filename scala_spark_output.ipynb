{
 "cells": [
  {
   "cell_type": "code",
   "execution_count": 3,
   "id": "found-management",
   "metadata": {},
   "outputs": [
    {
     "ename": "SyntaxError",
     "evalue": "invalid syntax (<ipython-input-3-5f365d5e5cc4>, line 2)",
     "output_type": "error",
     "traceback": [
      "\u001b[0;36m  File \u001b[0;32m\"<ipython-input-3-5f365d5e5cc4>\"\u001b[0;36m, line \u001b[0;32m2\u001b[0m\n\u001b[0;31m    Using Spark's default log4j profile: org/apache/spark/log4j-defaults.properties\u001b[0m\n\u001b[0m              ^\u001b[0m\n\u001b[0;31mSyntaxError\u001b[0m\u001b[0;31m:\u001b[0m invalid syntax\n"
     ]
    }
   ],
   "source": [
    "#StructuredlogStreaming.scala with access* files from log directory\n",
    "Using Spark's default log4j profile: org/apache/spark/log4j-defaults.properties\n",
    "WARNING: An illegal reflective access operation has occurred\n",
    "WARNING: Illegal reflective access by org.apache.spark.unsafe.Platform (file:/Users/aruna/Library/Caches/Coursier/v1/https/repo1.maven.org/maven2/org/apache/spark/spark-unsafe_2.12/3.0.0/spark-unsafe_2.12-3.0.0.jar) to constructor java.nio.DirectByteBuffer(long,int)\n",
    "WARNING: Please consider reporting this to the maintainers of org.apache.spark.unsafe.Platform\n",
    "WARNING: Use --illegal-access=warn to enable warnings of further illegal reflective access operations\n",
    "WARNING: All illegal access operations will be denied in a future release\n",
    "-------------------------------------------\n",
    "Batch: 0\n",
    "-------------------------------------------\n",
    "+------+-----+\n",
    "|status|count|\n",
    "+------+-----+\n",
    "|   200|  387|\n",
    "|   404|    9|\n",
    "|   302|    9|\n",
    "|   301|    3|\n",
    "+------+-----+\n",
    "\n",
    "-------------------------------------------\n",
    "Batch: 1\n",
    "-------------------------------------------\n",
    "+------+-------+\n",
    "|status|  count|\n",
    "+------+-------+\n",
    "|   200|9580212|\n",
    "|   304| 340228|\n",
    "|   302| 199844|\n",
    "|   404| 105020|\n",
    "|   301|  67555|\n",
    "|   499|  50852|\n",
    "|   500|  14266|\n",
    "|   403|   5634|\n",
    "|   502|    798|\n",
    "|   400|    376|\n",
    "|   401|    323|\n",
    "|   777|    211|\n",
    "|   408|    112|\n",
    "|   504|    103|\n",
    "|   414|     17|\n",
    "|   405|      6|\n",
    "|   206|      3|\n",
    "+------+-------+\n"
   ]
  },
  {
   "cell_type": "code",
   "execution_count": null,
   "id": "developmental-shopper",
   "metadata": {},
   "outputs": [],
   "source": [
    "#StructuredStreamingAru.scala with access* files from log directory\n",
    "\n",
    "-------------------------------------------\n",
    "Batch: 0\n",
    "-------------------------------------------\n",
    "+--------------------+--------------------+------+\n",
    "|              window|            endpoint| count|\n",
    "+--------------------+--------------------+------+\n",
    "|[2023-02-24 21:03...|      /settings/logo|352063|\n",
    "|[2023-02-24 21:03...|/static/css/font/...|280178|\n",
    "|[2023-02-24 21:03...|/static/images/gu...|138012|\n",
    "|[2023-02-24 21:03...|/static/images/gu...|125691|\n",
    "|[2023-02-24 21:03...|/static/images/gu...|124129|\n",
    "|[2023-02-24 21:03...|/static/images/gu...|116655|\n",
    "|[2023-02-24 21:03...|/site/alexaGooleA...|103798|\n",
    "|[2023-02-24 21:03...|        /favicon.ico|102733|\n",
    "|[2023-02-24 21:03...|/static/images/gu...| 98462|\n",
    "|[2023-02-24 21:03...|/static/images/am...| 92413|\n",
    "|[2023-02-24 21:03...|/static/images/am...| 92160|\n",
    "|[2023-02-24 21:03...|/static/images/am...| 89012|\n",
    "|[2023-02-24 21:03...|/static/images/am...| 60787|\n",
    "|[2023-02-24 21:03...|                   /| 47582|\n",
    "|[2023-02-24 21:03...|/amp-helper-frame...| 47092|\n",
    "|[2023-02-24 21:03...|/amp-helper-frame...| 44866|\n",
    "|[2023-02-24 21:03...|/image/%7B%7Bbask...| 36878|\n",
    "|[2023-02-24 21:03...|/static/bundle-bu...| 35560|\n",
    "|[2023-02-24 21:03...|/static/images/fa...| 34073|\n",
    "|[2023-02-24 21:03...|/static/images/th...| 33989|\n",
    "+--------------------+--------------------+------+\n",
    "only showing top 20 rows\n"
   ]
  }
 ],
 "metadata": {
  "kernelspec": {
   "display_name": "Python 3",
   "language": "python",
   "name": "python3"
  },
  "language_info": {
   "codemirror_mode": {
    "name": "ipython",
    "version": 3
   },
   "file_extension": ".py",
   "mimetype": "text/x-python",
   "name": "python",
   "nbconvert_exporter": "python",
   "pygments_lexer": "ipython3",
   "version": "3.7.4"
  }
 },
 "nbformat": 4,
 "nbformat_minor": 5
}
